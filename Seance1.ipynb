{
 "cells": [
  {
   "cell_type": "code",
   "execution_count": 14,
   "metadata": {},
   "outputs": [],
   "source": [
    "import math \n",
    "import random"
   ]
  },
  {
   "cell_type": "code",
   "execution_count": 3,
   "metadata": {},
   "outputs": [
    {
     "name": "stdout",
     "output_type": "stream",
     "text": [
      "Saississez votre hauteur : \n",
      "6\n",
      "Saississez votre rayon : \n",
      "5\n",
      "Le volume est  157.07963267948966\n"
     ]
    }
   ],
   "source": [
    "# EXO 1 : Cone Écrire un programme qui, à partir de la saisie d'un rayon et d'une hauteur, calcule le volume d'un cône droit.\n",
    "\n",
    "print(\"Saississez votre hauteur : \")\n",
    "a = input()\n",
    "hauteur = int(a)\n",
    "print(\"Saississez votre rayon : \")\n",
    "r = input()\n",
    "rayon = int(r)\n",
    "\n",
    "volume = math.pi * rayon * rayon * (hauteur/3)\n",
    "print(\"Le volume est \",volume)"
   ]
  },
  {
   "cell_type": "code",
   "execution_count": 11,
   "metadata": {},
   "outputs": [
    {
     "name": "stdout",
     "output_type": "stream",
     "text": [
      "Saississez la valeur de n : \n",
      "5\n",
      "La somme est :  225\n"
     ]
    }
   ],
   "source": [
    "# EXO 2 : \n",
    "    # 1) Pour un entier n fixé, programmer le calcul de la somme Sn=13+23+33+···+n3\n",
    "\n",
    "print(\"Saississez la valeur de n : \")\n",
    "n = input()\n",
    "nb = int(n)\n",
    "nb =nb +1\n",
    "somme = 0\n",
    "for i in range(nb): \n",
    "    somme = somme + pow(i,3)\n",
    "print(\"La somme est : \", somme)\n",
    "    \n"
   ]
  },
  {
   "cell_type": "code",
   "execution_count": 13,
   "metadata": {
    "scrolled": true
   },
   "outputs": [
    {
     "name": "stdout",
     "output_type": "stream",
     "text": [
      "Saississez la valeur de n : \n",
      "7\n",
      "La somme est :  28\n"
     ]
    }
   ],
   "source": [
    "# EXO 2 : \n",
    "    # ) Définir un programme qui pour une valeur n calcul la somme Σn=1+2+3+···+n.\n",
    "    \n",
    "print(\"Saississez la valeur de n : \")\n",
    "n = input()\n",
    "nb = int(n)\n",
    "nb =nb +1\n",
    "somme = 0\n",
    "for i in range(nb): \n",
    "    somme = somme + i\n",
    "print(\"La somme est : \", somme)"
   ]
  },
  {
   "cell_type": "code",
   "execution_count": 28,
   "metadata": {},
   "outputs": [
    {
     "name": "stdout",
     "output_type": "stream",
     "text": [
      "Combine de points voulez vous lancer ?\n",
      "100000\n",
      "2.00129998700013\n"
     ]
    }
   ],
   "source": [
    "#Exo 4 :\n",
    "\n",
    "print(\"Combine de points voulez vous lancer ?\")\n",
    "n=input()\n",
    "nb = int(n)\n",
    "nb =nb +1\n",
    "nbDansCercle = 0\n",
    "for i in range(nb):\n",
    "    nombre = random.random()\n",
    "    if nombre <= 0.5:\n",
    "        nbDansCercle = nbDansCercle +1\n",
    "pi = ((4*nbDansCercle)/nb)\n",
    "\n",
    "print(pi)\n"
   ]
  }
 ],
 "metadata": {
  "kernelspec": {
   "display_name": "Python 3",
   "language": "python",
   "name": "python3"
  },
  "language_info": {
   "codemirror_mode": {
    "name": "ipython",
    "version": 3
   },
   "file_extension": ".py",
   "mimetype": "text/x-python",
   "name": "python",
   "nbconvert_exporter": "python",
   "pygments_lexer": "ipython3",
   "version": "3.7.5"
  }
 },
 "nbformat": 4,
 "nbformat_minor": 2
}
